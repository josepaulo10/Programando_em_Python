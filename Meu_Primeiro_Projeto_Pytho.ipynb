{
  "nbformat": 4,
  "nbformat_minor": 0,
  "metadata": {
    "colab": {
      "provenance": [],
      "authorship_tag": "ABX9TyOmkBMEy9hxQK6lMZ+S+OdV",
      "include_colab_link": true
    },
    "kernelspec": {
      "name": "python3",
      "display_name": "Python 3"
    },
    "language_info": {
      "name": "python"
    }
  },
  "cells": [
    {
      "cell_type": "markdown",
      "metadata": {
        "id": "view-in-github",
        "colab_type": "text"
      },
      "source": [
        "<a href=\"https://colab.research.google.com/github/josepaulo10/Programando_em_Python/blob/master/Meu_Primeiro_Projeto_Pytho.ipynb\" target=\"_parent\"><img src=\"https://colab.research.google.com/assets/colab-badge.svg\" alt=\"Open In Colab\"/></a>"
      ]
    },
    {
      "cell_type": "code",
      "source": [
        "MEU PRIMEIRO PROJETO EM PYTHON"
      ],
      "metadata": {
        "id": "GnKK-PNZfsBI"
      },
      "execution_count": null,
      "outputs": []
    },
    {
      "cell_type": "code",
      "source": [
        "# calculadora simples com Python\n",
        "num1 = float(input(\" Digite o primeiro número: \"))\n",
        "num2 = float(input(\" Digite o segundo número: \"))\n",
        "\n",
        "# Calculando a soma e armazenando na variável 'soma'\n",
        "soma =  num1 + num2\n",
        "\n",
        "# Calculando a subtração e armazenando na variável 'subtração'\n",
        "subtracao = num1 - num2\n",
        "\n",
        "# Calculando a multiplicação e armazenando na variável ' multiplicação'\n",
        "multiplicacao = num1 * num2\n",
        "\n",
        "# Calculando a divisão e armazenando na variável ' divisão'\n",
        "divisao = num1 / num2\n",
        "\n",
        "# Calculando a exponenciação e armazenando na variável 'expo'\n",
        "expo = num1 ** num2\n",
        "\n",
        "# Calculando o resto da divisão e armazenando na variável 'resto'\n",
        "resto = num1 % num2\n"
      ],
      "metadata": {
        "id": "AhkjyUaqgJs-"
      },
      "execution_count": null,
      "outputs": []
    },
    {
      "cell_type": "code",
      "source": [
        "# Impressão dos resultados\n",
        "print('Soma :                ', num1, '+',num2, '=', soma)\n",
        "print('Subtracao :           ', num1, '-', num2, '=', subtracao)\n",
        "print('Multiplicacao :       ', num1, '*', num2, '=', multiplicacao)\n",
        "print('Divisao :             ', num1, '/', num2, '=', divisao)\n",
        "# Impressão dos resultados\n",
        "print('Soma :                ', num1, '+',num2, '=', soma)\n",
        "print('Subtracao :           ', num1, '-', num2, '=', subtracao)\n",
        "print('Multiplicacao :       ', num1, '*', num2, '=', multiplicacao)\n",
        "print('Divisao :             ', num1, '/', num2, '=', divisao)\n",
        "print('Expo :                ', num1, '**', num2, '=', expo)\n",
        "print('Resto :               ', num1, '%', num2, '=', resto)\n",
        "#else:\n",
        "#  resultado = 'Operação não suportada'\n",
        "#  print(\"O resultado da operação é: \" + str(resultado))\n",
        "\n",
        ""
      ],
      "metadata": {
        "id": "PRmDoErhmtIU"
      },
      "execution_count": null,
      "outputs": []
    }
  ]
}